{
 "cells": [
  {
   "cell_type": "code",
   "execution_count": 36,
   "metadata": {},
   "outputs": [
    {
     "name": "stdout",
     "output_type": "stream",
     "text": [
      "fire  nofire\r\n"
     ]
    }
   ],
   "source": [
    "! ls datasets/tmp\n"
   ]
  },
  {
   "cell_type": "code",
   "execution_count": 6,
   "metadata": {},
   "outputs": [],
   "source": [
    "import os\n",
    "import cv2\n",
    "import numpy as np\n",
    "from tqdm import tqdm"
   ]
  },
  {
   "cell_type": "code",
   "execution_count": 37,
   "metadata": {},
   "outputs": [],
   "source": [
    "DATADIR = 'datasets/tmp'\n",
    "CATEGORIES = ['fire', 'nofire']"
   ]
  },
  {
   "cell_type": "code",
   "execution_count": 38,
   "metadata": {},
   "outputs": [],
   "source": [
    "IMG_SIZE = 64\n",
    "def create_training_data():\n",
    "    training_data = []\n",
    "    for category in CATEGORIES:  \n",
    "\n",
    "        path = os.path.join(DATADIR,category) \n",
    "        class_num = CATEGORIES.index(category)  # get the classification  (0 or a 1). 0=C 1=O\n",
    "\n",
    "        for img in tqdm(os.listdir(path)):  # iterate over each image\n",
    "            try:\n",
    "                img_array = cv2.imread(os.path.join(path,img))  # convert to array\n",
    "                new_array = cv2.resize(img_array, (IMG_SIZE, IMG_SIZE))  # resize to normalize data size\n",
    "                training_data.append([new_array, class_num])  # add this to our training_data\n",
    "            except Exception as e:  # in the interest in keeping the output clean...\n",
    "                pass\n",
    "              \n",
    "    return training_data"
   ]
  },
  {
   "cell_type": "code",
   "execution_count": 39,
   "metadata": {},
   "outputs": [
    {
     "name": "stderr",
     "output_type": "stream",
     "text": [
      "100%|██████████| 175/175 [00:14<00:00, 11.98it/s]\n",
      "100%|██████████| 95/95 [00:07<00:00, 12.87it/s]\n"
     ]
    }
   ],
   "source": [
    "training_data = create_training_data()\n"
   ]
  },
  {
   "cell_type": "code",
   "execution_count": 40,
   "metadata": {},
   "outputs": [
    {
     "name": "stdout",
     "output_type": "stream",
     "text": [
      "270\n",
      "0\n",
      "1\n",
      "0\n",
      "0\n",
      "0\n",
      "0\n",
      "0\n",
      "0\n",
      "0\n",
      "0\n"
     ]
    }
   ],
   "source": [
    "import random\n",
    "\n",
    "print(len(training_data))\n",
    "random.shuffle(training_data)\n",
    "for sample in training_data[:10]:\n",
    "    print(sample[1])"
   ]
  },
  {
   "cell_type": "code",
   "execution_count": 53,
   "metadata": {},
   "outputs": [
    {
     "data": {
      "text/plain": [
       "(64, 64, 3)"
      ]
     },
     "execution_count": 53,
     "metadata": {},
     "output_type": "execute_result"
    }
   ],
   "source": [
    "X = []\n",
    "Y = []\n",
    "\n",
    "for features,label in training_data:\n",
    "    X.append(features)\n",
    "    Y.append(label)\n",
    "\n",
    "# try to get around split error\n",
    "Y = np.asarray(Y)\n",
    "\n",
    "X = np.array(X).reshape(-1, IMG_SIZE, IMG_SIZE, 3)\n",
    "X = X/255.0\n",
    "X.shape[1:]"
   ]
  },
  {
   "cell_type": "code",
   "execution_count": 54,
   "metadata": {},
   "outputs": [
    {
     "data": {
      "text/plain": [
       "numpy.ndarray"
      ]
     },
     "execution_count": 54,
     "metadata": {},
     "output_type": "execute_result"
    }
   ],
   "source": [
    "type(Y)"
   ]
  },
  {
   "cell_type": "code",
   "execution_count": 13,
   "metadata": {},
   "outputs": [],
   "source": [
    "# # set up image augmentation\n",
    "# from keras.preprocessing.image import ImageDataGenerator\n",
    "\n",
    "# datagen = ImageDataGenerator(\n",
    "#     rotation_range=15,\n",
    "#     horizontal_flip=True,\n",
    "#     width_shift_range=0.1,\n",
    "#     height_shift_range=0.1\n",
    "#     #zoom_range=0.3\n",
    "#     )\n",
    "# datagen.fit(X)"
   ]
  },
  {
   "cell_type": "code",
   "execution_count": 55,
   "metadata": {},
   "outputs": [],
   "source": [
    "import tensorflow as tf\n",
    "from tensorflow.keras.datasets import cifar10\n",
    "from tensorflow.keras.preprocessing.image import ImageDataGenerator\n",
    "from tensorflow.keras.models import Sequential\n",
    "from tensorflow.keras.layers import Dense, Dropout, Activation, Flatten\n",
    "from tensorflow.keras.layers import Conv2D, AveragePooling2D\n",
    "\n",
    "model = Sequential()\n",
    "\n",
    "\n",
    "model.add(Conv2D(filters=16, kernel_size=(3, 3), activation='relu', input_shape=X.shape[1:]))\n",
    "model.add(AveragePooling2D())\n",
    "model.add(Dropout(0.5))\n",
    "\n",
    "model.add(Conv2D(filters=32, kernel_size=(3, 3), activation='relu'))\n",
    "model.add(AveragePooling2D())\n",
    "model.add(Dropout(0.5))\n",
    "\n",
    "model.add(Conv2D(filters=64, kernel_size=(3, 3), activation='relu'))\n",
    "model.add(AveragePooling2D())\n",
    "model.add(Dropout(0.5))\n",
    "\n",
    "model.add(Flatten())\n",
    "\n",
    "model.add(Dense(units=256, activation='relu'))\n",
    "model.add(Dropout(0.2))\n",
    "\n",
    "model.add(Dense(units=128, activation='relu'))\n",
    "\n",
    "model.add(Dense(units=2, activation = 'softmax'))\n",
    "\n",
    "model.compile(loss='sparse_categorical_crossentropy',\n",
    "              optimizer='adam',\n",
    "              metrics=['accuracy'])\n",
    "\n",
    "\n"
   ]
  },
  {
   "cell_type": "code",
   "execution_count": 56,
   "metadata": {},
   "outputs": [
    {
     "name": "stdout",
     "output_type": "stream",
     "text": [
      "Epoch 1/100\n",
      "6/6 [==============================] - 0s 63ms/step - loss: 0.7027 - accuracy: 0.6138 - val_loss: 0.6885 - val_accuracy: 0.5679\n",
      "Epoch 2/100\n",
      "6/6 [==============================] - 0s 25ms/step - loss: 0.6540 - accuracy: 0.6878 - val_loss: 0.6906 - val_accuracy: 0.5679\n",
      "Epoch 3/100\n",
      "6/6 [==============================] - 0s 26ms/step - loss: 0.6458 - accuracy: 0.6825 - val_loss: 0.6872 - val_accuracy: 0.5679\n",
      "Epoch 4/100\n",
      "6/6 [==============================] - 0s 27ms/step - loss: 0.6365 - accuracy: 0.6825 - val_loss: 0.6845 - val_accuracy: 0.5679\n",
      "Epoch 5/100\n",
      "6/6 [==============================] - 0s 26ms/step - loss: 0.6316 - accuracy: 0.6825 - val_loss: 0.6835 - val_accuracy: 0.5679\n",
      "Epoch 6/100\n",
      "6/6 [==============================] - 0s 27ms/step - loss: 0.6241 - accuracy: 0.6825 - val_loss: 0.6835 - val_accuracy: 0.5679\n",
      "Epoch 7/100\n",
      "6/6 [==============================] - 0s 27ms/step - loss: 0.6224 - accuracy: 0.6825 - val_loss: 0.6701 - val_accuracy: 0.5679\n",
      "Epoch 8/100\n",
      "6/6 [==============================] - 0s 27ms/step - loss: 0.6244 - accuracy: 0.6825 - val_loss: 0.6616 - val_accuracy: 0.5679\n",
      "Epoch 9/100\n",
      "6/6 [==============================] - 0s 26ms/step - loss: 0.5976 - accuracy: 0.6825 - val_loss: 0.6341 - val_accuracy: 0.5679\n",
      "Epoch 10/100\n",
      "6/6 [==============================] - 0s 26ms/step - loss: 0.5825 - accuracy: 0.7672 - val_loss: 0.5944 - val_accuracy: 0.5679\n",
      "Epoch 11/100\n",
      "6/6 [==============================] - 0s 28ms/step - loss: 0.5496 - accuracy: 0.7037 - val_loss: 0.5123 - val_accuracy: 0.9877\n",
      "Epoch 12/100\n",
      "6/6 [==============================] - 0s 27ms/step - loss: 0.5473 - accuracy: 0.7513 - val_loss: 0.4627 - val_accuracy: 1.0000\n",
      "Epoch 13/100\n",
      "6/6 [==============================] - 0s 26ms/step - loss: 0.5622 - accuracy: 0.6984 - val_loss: 0.5334 - val_accuracy: 0.6049\n",
      "Epoch 14/100\n",
      "6/6 [==============================] - 0s 29ms/step - loss: 0.5058 - accuracy: 0.7937 - val_loss: 0.4937 - val_accuracy: 0.8519\n",
      "Epoch 15/100\n",
      "6/6 [==============================] - 0s 29ms/step - loss: 0.4574 - accuracy: 0.7672 - val_loss: 0.4121 - val_accuracy: 1.0000\n",
      "Epoch 16/100\n",
      "6/6 [==============================] - 0s 27ms/step - loss: 0.4785 - accuracy: 0.7831 - val_loss: 0.3656 - val_accuracy: 0.7901\n",
      "Epoch 17/100\n",
      "6/6 [==============================] - 0s 28ms/step - loss: 0.3739 - accuracy: 0.8519 - val_loss: 0.3624 - val_accuracy: 0.8025\n",
      "Epoch 18/100\n",
      "6/6 [==============================] - 0s 29ms/step - loss: 0.3329 - accuracy: 0.8624 - val_loss: 0.1865 - val_accuracy: 1.0000\n",
      "Epoch 19/100\n",
      "6/6 [==============================] - 0s 27ms/step - loss: 0.2674 - accuracy: 0.8783 - val_loss: 0.1187 - val_accuracy: 1.0000\n",
      "Epoch 20/100\n",
      "6/6 [==============================] - 0s 28ms/step - loss: 0.2141 - accuracy: 0.9365 - val_loss: 0.1907 - val_accuracy: 0.9877\n",
      "Epoch 21/100\n",
      "6/6 [==============================] - 0s 27ms/step - loss: 0.2118 - accuracy: 0.9365 - val_loss: 0.0830 - val_accuracy: 1.0000\n",
      "Epoch 22/100\n",
      "6/6 [==============================] - 0s 28ms/step - loss: 0.1217 - accuracy: 0.9683 - val_loss: 0.0584 - val_accuracy: 1.0000\n",
      "Epoch 23/100\n",
      "6/6 [==============================] - 0s 29ms/step - loss: 0.1131 - accuracy: 0.9577 - val_loss: 0.1669 - val_accuracy: 0.9383\n",
      "Epoch 24/100\n",
      "6/6 [==============================] - 0s 28ms/step - loss: 0.0827 - accuracy: 0.9788 - val_loss: 0.1110 - val_accuracy: 0.9877\n",
      "Epoch 25/100\n",
      "6/6 [==============================] - 0s 28ms/step - loss: 0.1068 - accuracy: 0.9735 - val_loss: 0.0473 - val_accuracy: 1.0000\n",
      "Epoch 26/100\n",
      "6/6 [==============================] - 0s 28ms/step - loss: 0.0561 - accuracy: 0.9735 - val_loss: 0.1583 - val_accuracy: 0.9259\n",
      "Epoch 27/100\n",
      "6/6 [==============================] - 0s 27ms/step - loss: 0.1236 - accuracy: 0.9630 - val_loss: 0.4365 - val_accuracy: 0.6790\n",
      "Epoch 28/100\n",
      "6/6 [==============================] - 0s 27ms/step - loss: 0.1065 - accuracy: 0.9841 - val_loss: 0.0096 - val_accuracy: 1.0000\n",
      "Epoch 29/100\n",
      "6/6 [==============================] - 0s 27ms/step - loss: 0.0658 - accuracy: 0.9735 - val_loss: 0.0445 - val_accuracy: 0.9877\n",
      "Epoch 30/100\n",
      "6/6 [==============================] - 0s 26ms/step - loss: 0.0231 - accuracy: 1.0000 - val_loss: 0.0381 - val_accuracy: 1.0000\n",
      "Epoch 31/100\n",
      "6/6 [==============================] - 0s 26ms/step - loss: 0.0252 - accuracy: 1.0000 - val_loss: 0.0353 - val_accuracy: 1.0000\n",
      "Epoch 32/100\n",
      "6/6 [==============================] - 0s 27ms/step - loss: 0.0127 - accuracy: 1.0000 - val_loss: 0.0133 - val_accuracy: 1.0000\n",
      "Epoch 33/100\n",
      "6/6 [==============================] - 0s 27ms/step - loss: 0.0223 - accuracy: 0.9894 - val_loss: 0.0259 - val_accuracy: 1.0000\n",
      "Epoch 34/100\n",
      "6/6 [==============================] - 0s 28ms/step - loss: 0.0163 - accuracy: 1.0000 - val_loss: 0.0810 - val_accuracy: 1.0000\n",
      "Epoch 35/100\n",
      "6/6 [==============================] - 0s 29ms/step - loss: 0.0181 - accuracy: 0.9947 - val_loss: 0.0206 - val_accuracy: 1.0000\n",
      "Epoch 36/100\n",
      "6/6 [==============================] - 0s 27ms/step - loss: 0.0232 - accuracy: 0.9894 - val_loss: 0.0418 - val_accuracy: 1.0000\n",
      "Epoch 37/100\n",
      "6/6 [==============================] - 0s 28ms/step - loss: 0.0197 - accuracy: 0.9894 - val_loss: 0.0400 - val_accuracy: 1.0000\n",
      "Epoch 38/100\n",
      "6/6 [==============================] - 0s 26ms/step - loss: 0.0394 - accuracy: 0.9841 - val_loss: 0.0170 - val_accuracy: 1.0000\n",
      "Epoch 39/100\n",
      "6/6 [==============================] - 0s 26ms/step - loss: 0.0132 - accuracy: 1.0000 - val_loss: 0.0379 - val_accuracy: 1.0000\n",
      "Epoch 40/100\n",
      "6/6 [==============================] - 0s 27ms/step - loss: 0.0065 - accuracy: 1.0000 - val_loss: 0.0202 - val_accuracy: 1.0000\n",
      "Epoch 41/100\n",
      "6/6 [==============================] - 0s 29ms/step - loss: 0.0027 - accuracy: 1.0000 - val_loss: 0.0041 - val_accuracy: 1.0000\n",
      "Epoch 42/100\n",
      "6/6 [==============================] - 0s 26ms/step - loss: 0.0156 - accuracy: 0.9947 - val_loss: 0.0996 - val_accuracy: 0.9877\n",
      "Epoch 43/100\n",
      "6/6 [==============================] - 0s 27ms/step - loss: 0.0114 - accuracy: 0.9947 - val_loss: 0.0032 - val_accuracy: 1.0000\n",
      "Epoch 44/100\n",
      "6/6 [==============================] - 0s 27ms/step - loss: 0.0086 - accuracy: 0.9947 - val_loss: 0.0059 - val_accuracy: 1.0000\n",
      "Epoch 45/100\n",
      "6/6 [==============================] - 0s 29ms/step - loss: 0.0094 - accuracy: 0.9947 - val_loss: 0.0136 - val_accuracy: 1.0000\n",
      "Epoch 46/100\n",
      "6/6 [==============================] - 0s 28ms/step - loss: 0.0032 - accuracy: 1.0000 - val_loss: 0.0177 - val_accuracy: 1.0000\n",
      "Epoch 47/100\n",
      "6/6 [==============================] - 0s 28ms/step - loss: 0.0104 - accuracy: 0.9947 - val_loss: 0.0022 - val_accuracy: 1.0000\n",
      "Epoch 48/100\n",
      "6/6 [==============================] - 0s 26ms/step - loss: 0.0105 - accuracy: 0.9947 - val_loss: 0.1790 - val_accuracy: 0.8765\n",
      "Epoch 49/100\n",
      "6/6 [==============================] - 0s 27ms/step - loss: 0.0066 - accuracy: 1.0000 - val_loss: 0.0028 - val_accuracy: 1.0000\n",
      "Epoch 50/100\n",
      "6/6 [==============================] - 0s 30ms/step - loss: 0.0073 - accuracy: 1.0000 - val_loss: 0.2266 - val_accuracy: 0.8395\n",
      "Epoch 51/100\n",
      "6/6 [==============================] - 0s 28ms/step - loss: 0.0061 - accuracy: 1.0000 - val_loss: 0.0061 - val_accuracy: 1.0000\n",
      "Epoch 52/100\n",
      "6/6 [==============================] - 0s 29ms/step - loss: 7.5912e-04 - accuracy: 1.0000 - val_loss: 6.4642e-04 - val_accuracy: 1.0000\n",
      "Epoch 53/100\n",
      "6/6 [==============================] - 0s 28ms/step - loss: 0.0012 - accuracy: 1.0000 - val_loss: 3.4347e-04 - val_accuracy: 1.0000\n",
      "Epoch 54/100\n",
      "6/6 [==============================] - 0s 25ms/step - loss: 0.0208 - accuracy: 0.9894 - val_loss: 0.0100 - val_accuracy: 1.0000\n",
      "Epoch 55/100\n",
      "6/6 [==============================] - 0s 29ms/step - loss: 0.0020 - accuracy: 1.0000 - val_loss: 0.0096 - val_accuracy: 1.0000\n",
      "Epoch 56/100\n",
      "6/6 [==============================] - 0s 27ms/step - loss: 0.0107 - accuracy: 1.0000 - val_loss: 0.1322 - val_accuracy: 0.9753\n",
      "Epoch 57/100\n",
      "6/6 [==============================] - 0s 26ms/step - loss: 0.0115 - accuracy: 0.9947 - val_loss: 0.0023 - val_accuracy: 1.0000\n",
      "Epoch 58/100\n",
      "6/6 [==============================] - 0s 26ms/step - loss: 0.0296 - accuracy: 0.9947 - val_loss: 2.0316e-04 - val_accuracy: 1.0000\n",
      "Epoch 59/100\n"
     ]
    },
    {
     "name": "stdout",
     "output_type": "stream",
     "text": [
      "6/6 [==============================] - 0s 26ms/step - loss: 0.1133 - accuracy: 0.9630 - val_loss: 0.2528 - val_accuracy: 0.8889\n",
      "Epoch 60/100\n",
      "6/6 [==============================] - 0s 26ms/step - loss: 0.0986 - accuracy: 0.9683 - val_loss: 0.0226 - val_accuracy: 1.0000\n",
      "Epoch 61/100\n",
      "6/6 [==============================] - 0s 26ms/step - loss: 0.0546 - accuracy: 0.9894 - val_loss: 0.0075 - val_accuracy: 1.0000\n",
      "Epoch 62/100\n",
      "6/6 [==============================] - 0s 25ms/step - loss: 0.0151 - accuracy: 1.0000 - val_loss: 0.0325 - val_accuracy: 1.0000\n",
      "Epoch 63/100\n",
      "6/6 [==============================] - 0s 26ms/step - loss: 0.0551 - accuracy: 0.9735 - val_loss: 0.0038 - val_accuracy: 1.0000\n",
      "Epoch 64/100\n",
      "6/6 [==============================] - 0s 26ms/step - loss: 0.1519 - accuracy: 0.9577 - val_loss: 0.6250 - val_accuracy: 0.5802\n",
      "Epoch 65/100\n",
      "6/6 [==============================] - 0s 27ms/step - loss: 0.1034 - accuracy: 0.9683 - val_loss: 0.0207 - val_accuracy: 0.9877\n",
      "Epoch 66/100\n",
      "6/6 [==============================] - 0s 26ms/step - loss: 0.0679 - accuracy: 0.9788 - val_loss: 0.2892 - val_accuracy: 0.7654\n",
      "Epoch 67/100\n",
      "6/6 [==============================] - 0s 26ms/step - loss: 0.0859 - accuracy: 0.9841 - val_loss: 0.0069 - val_accuracy: 1.0000\n",
      "Epoch 68/100\n",
      "6/6 [==============================] - 0s 25ms/step - loss: 0.0097 - accuracy: 1.0000 - val_loss: 0.0132 - val_accuracy: 1.0000\n",
      "Epoch 69/100\n",
      "6/6 [==============================] - 0s 26ms/step - loss: 0.0069 - accuracy: 1.0000 - val_loss: 0.0369 - val_accuracy: 1.0000\n",
      "Epoch 70/100\n",
      "6/6 [==============================] - 0s 26ms/step - loss: 0.0056 - accuracy: 1.0000 - val_loss: 0.0154 - val_accuracy: 1.0000\n",
      "Epoch 71/100\n",
      "6/6 [==============================] - 0s 25ms/step - loss: 0.0032 - accuracy: 1.0000 - val_loss: 0.0042 - val_accuracy: 1.0000\n",
      "Epoch 72/100\n",
      "6/6 [==============================] - 0s 26ms/step - loss: 6.6016e-04 - accuracy: 1.0000 - val_loss: 0.0031 - val_accuracy: 1.0000\n",
      "Epoch 73/100\n",
      "6/6 [==============================] - 0s 25ms/step - loss: 6.3262e-04 - accuracy: 1.0000 - val_loss: 0.0022 - val_accuracy: 1.0000\n",
      "Epoch 74/100\n",
      "6/6 [==============================] - 0s 28ms/step - loss: 2.6943e-04 - accuracy: 1.0000 - val_loss: 0.0017 - val_accuracy: 1.0000\n",
      "Epoch 75/100\n",
      "6/6 [==============================] - 0s 26ms/step - loss: 6.1906e-04 - accuracy: 1.0000 - val_loss: 0.0012 - val_accuracy: 1.0000\n",
      "Epoch 76/100\n",
      "6/6 [==============================] - 0s 26ms/step - loss: 1.1775e-04 - accuracy: 1.0000 - val_loss: 9.8286e-04 - val_accuracy: 1.0000\n",
      "Epoch 77/100\n",
      "6/6 [==============================] - 0s 26ms/step - loss: 2.1624e-04 - accuracy: 1.0000 - val_loss: 8.3571e-04 - val_accuracy: 1.0000\n",
      "Epoch 78/100\n",
      "6/6 [==============================] - 0s 25ms/step - loss: 0.0050 - accuracy: 1.0000 - val_loss: 6.7759e-04 - val_accuracy: 1.0000\n",
      "Epoch 79/100\n",
      "6/6 [==============================] - 0s 26ms/step - loss: 8.0301e-04 - accuracy: 1.0000 - val_loss: 6.7103e-04 - val_accuracy: 1.0000\n",
      "Epoch 80/100\n",
      "6/6 [==============================] - 0s 25ms/step - loss: 0.0017 - accuracy: 1.0000 - val_loss: 0.0012 - val_accuracy: 1.0000\n",
      "Epoch 81/100\n",
      "6/6 [==============================] - 0s 25ms/step - loss: 4.3279e-04 - accuracy: 1.0000 - val_loss: 0.0037 - val_accuracy: 1.0000\n",
      "Epoch 82/100\n",
      "6/6 [==============================] - 0s 25ms/step - loss: 6.9296e-04 - accuracy: 1.0000 - val_loss: 0.0057 - val_accuracy: 1.0000\n",
      "Epoch 83/100\n",
      "6/6 [==============================] - 0s 26ms/step - loss: 9.4508e-04 - accuracy: 1.0000 - val_loss: 0.0057 - val_accuracy: 1.0000\n",
      "Epoch 84/100\n",
      "6/6 [==============================] - 0s 26ms/step - loss: 5.5216e-04 - accuracy: 1.0000 - val_loss: 0.0041 - val_accuracy: 1.0000\n",
      "Epoch 85/100\n",
      "6/6 [==============================] - 0s 26ms/step - loss: 5.2509e-04 - accuracy: 1.0000 - val_loss: 0.0025 - val_accuracy: 1.0000\n",
      "Epoch 86/100\n",
      "6/6 [==============================] - 0s 27ms/step - loss: 3.6997e-04 - accuracy: 1.0000 - val_loss: 0.0015 - val_accuracy: 1.0000\n",
      "Epoch 87/100\n",
      "6/6 [==============================] - 0s 25ms/step - loss: 0.0059 - accuracy: 0.9947 - val_loss: 0.0451 - val_accuracy: 1.0000\n",
      "Epoch 88/100\n",
      "6/6 [==============================] - 0s 27ms/step - loss: 0.0072 - accuracy: 1.0000 - val_loss: 0.0315 - val_accuracy: 1.0000\n",
      "Epoch 89/100\n",
      "6/6 [==============================] - 0s 25ms/step - loss: 0.0396 - accuracy: 0.9947 - val_loss: 3.9571e-04 - val_accuracy: 1.0000\n",
      "Epoch 90/100\n",
      "6/6 [==============================] - 0s 26ms/step - loss: 0.0128 - accuracy: 0.9947 - val_loss: 0.0070 - val_accuracy: 1.0000\n",
      "Epoch 91/100\n",
      "6/6 [==============================] - 0s 25ms/step - loss: 0.0064 - accuracy: 1.0000 - val_loss: 0.0282 - val_accuracy: 1.0000\n",
      "Epoch 92/100\n",
      "6/6 [==============================] - 0s 25ms/step - loss: 0.0201 - accuracy: 0.9894 - val_loss: 0.0011 - val_accuracy: 1.0000\n",
      "Epoch 93/100\n",
      "6/6 [==============================] - 0s 27ms/step - loss: 0.0055 - accuracy: 1.0000 - val_loss: 1.1622e-04 - val_accuracy: 1.0000\n",
      "Epoch 94/100\n",
      "6/6 [==============================] - 0s 25ms/step - loss: 8.5236e-05 - accuracy: 1.0000 - val_loss: 2.5044e-04 - val_accuracy: 1.0000\n",
      "Epoch 95/100\n",
      "6/6 [==============================] - 0s 25ms/step - loss: 1.4729e-04 - accuracy: 1.0000 - val_loss: 3.0198e-04 - val_accuracy: 1.0000\n",
      "Epoch 96/100\n",
      "6/6 [==============================] - 0s 25ms/step - loss: 4.0972e-04 - accuracy: 1.0000 - val_loss: 4.3188e-04 - val_accuracy: 1.0000\n",
      "Epoch 97/100\n",
      "6/6 [==============================] - 0s 25ms/step - loss: 8.5351e-05 - accuracy: 1.0000 - val_loss: 5.5327e-04 - val_accuracy: 1.0000\n",
      "Epoch 98/100\n",
      "6/6 [==============================] - 0s 26ms/step - loss: 0.0113 - accuracy: 0.9947 - val_loss: 1.5474e-04 - val_accuracy: 1.0000\n",
      "Epoch 99/100\n",
      "6/6 [==============================] - 0s 25ms/step - loss: 0.0062 - accuracy: 0.9947 - val_loss: 0.0333 - val_accuracy: 1.0000\n",
      "Epoch 100/100\n",
      "6/6 [==============================] - 0s 25ms/step - loss: 0.0037 - accuracy: 1.0000 - val_loss: 0.0513 - val_accuracy: 1.0000\n"
     ]
    }
   ],
   "source": [
    "history = model.fit(X, Y, batch_size=32, epochs=100,validation_split=0.3)\n",
    "# model.fit_generator(datagen.flow(X, Y, batch_size=32),\n",
    "#                     epochs=100,\n",
    "#                     verbose=1)\n",
    "\n",
    "#history = model.fit(X, Y, batch_size=27, epochs=10,validation_split=0.3)"
   ]
  },
  {
   "cell_type": "code",
   "execution_count": 59,
   "metadata": {},
   "outputs": [],
   "source": [
    "# model.save('TrainedModels/Fire-64x64-color-v7.1-soft.h5')\n",
    "model.save('TrainedModels/take2.h5')"
   ]
  },
  {
   "cell_type": "code",
   "execution_count": 64,
   "metadata": {},
   "outputs": [
    {
     "name": "stdout",
     "output_type": "stream",
     "text": [
      "dict_keys(['loss', 'accuracy', 'val_loss', 'val_accuracy'])\n"
     ]
    }
   ],
   "source": [
    "print(history.history.keys())"
   ]
  },
  {
   "cell_type": "code",
   "execution_count": 65,
   "metadata": {},
   "outputs": [
    {
     "data": {
      "image/png": "[encoded data removed]",
      "text/plain": [
       "<Figure size 432x288 with 1 Axes>"
      ]
     },
     "metadata": {
      "needs_background": "light"
     },
     "output_type": "display_data"
    }
   ],
   "source": [
    "from matplotlib import pyplot as plt\n",
    "# plt.plot(history.history['acc'])\n",
    "# plt.plot(history.history['val_acc'])\n",
    "plt.plot(history.history['accuracy'])\n",
    "plt.plot(history.history['val_accuracy'])\n",
    "plt.title('model accuracy')\n",
    "plt.ylabel('accuracy')\n",
    "plt.xlabel('epoch')\n",
    "plt.legend(['train', 'validation'], loc='upper left')\n",
    "plt.show()"
   ]
  },
  {
   "cell_type": "code",
   "execution_count": 66,
   "metadata": {},
   "outputs": [
    {
     "data": {
      "image/png": "[encoded data removed]",
      "text/plain": [
       "<Figure size 432x288 with 1 Axes>"
      ]
     },
     "metadata": {
      "needs_background": "light"
     },
     "output_type": "display_data"
    }
   ],
   "source": [
    "plt.plot(history.history['loss'])\n",
    "plt.plot(history.history['val_loss'])\n",
    "plt.title('model loss')\n",
    "plt.ylabel('loss')\n",
    "plt.xlabel('epoch')\n",
    "plt.legend(['train', 'validation'], loc='upper left')\n",
    "plt.show()"
   ]
  },
  {
   "cell_type": "code",
   "execution_count": 73,
   "metadata": {},
   "outputs": [],
   "source": [
    "import tensorflow as tf\n",
    "from tensorflow.keras.utils import plot_model\n",
    "# model = tf.keras.models.load_model('TrainedModels/Fire-64x64-color-v7-soft.h5')\n",
    "model = tf.keras.models.load_model('TrainedModels/take2.h5')\n",
    "\n",
    "# model.fit_generator(datagen.flow(X, Y, batch_size=32),\n",
    "#                     epochs=100,\n",
    "#                   verbose=1)"
   ]
  },
  {
   "cell_type": "code",
   "execution_count": 83,
   "metadata": {},
   "outputs": [
    {
     "name": "stdout",
     "output_type": "stream",
     "text": [
      "Failed to import pydot. You must install pydot and graphviz for `pydotprint` to work.\n"
     ]
    }
   ],
   "source": [
    "plot_model(model, to_file='model_small.svg', show_layer_names=False, show_shapes=True)"
   ]
  },
  {
   "cell_type": "code",
   "execution_count": 84,
   "metadata": {},
   "outputs": [
    {
     "name": "stdout",
     "output_type": "stream",
     "text": [
      "Collecting package metadata (current_repodata.json): failed\n",
      "\n",
      "NotWritableError: The current user does not have write permissions to a required path.\n",
      "  path: /home/simbox/.conda/pkgs/urls.txt\n",
      "  uid: 1000\n",
      "  gid: 1000\n",
      "\n",
      "If you feel that permissions on this path are set incorrectly, you can manually\n",
      "change them by executing\n",
      "\n",
      "  $ sudo chown 1000:1000 /home/simbox/.conda/pkgs/urls.txt\n",
      "\n",
      "In general, it's not advisable to use 'sudo conda'.\n",
      "\n",
      "\n",
      "\n",
      "Note: you may need to restart the kernel to use updated packages.\n"
     ]
    }
   ],
   "source": [
    "conda install pydotplus"
   ]
  }
 ],
 "metadata": {
  "kernelspec": {
   "display_name": "Python 3",
   "language": "python",
   "name": "python3"
  },
  "language_info": {
   "codemirror_mode": {
    "name": "ipython",
    "version": 3
   },
   "file_extension": ".py",
   "mimetype": "text/x-python",
   "name": "python",
   "nbconvert_exporter": "python",
   "pygments_lexer": "ipython3",
   "version": "3.7.4"
  }
 },
 "nbformat": 4,
 "nbformat_minor": 2
}
