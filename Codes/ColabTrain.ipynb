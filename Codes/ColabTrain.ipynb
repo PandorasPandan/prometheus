{
  "nbformat": 4,
  "nbformat_minor": 0,
  "metadata": {
    "kernelspec": {
      "display_name": "Python 3",
      "language": "python",
      "name": "python3"
    },
    "language_info": {
      "codemirror_mode": {
        "name": "ipython",
        "version": 3
      },
      "file_extension": ".py",
      "mimetype": "text/x-python",
      "name": "python",
      "nbconvert_exporter": "python",
      "pygments_lexer": "ipython3",
      "version": "3.7.4"
    },
    "colab": {
      "name": "Train.ipynb",
      "provenance": []
    }
  },
  "cells": [
    {
      "cell_type": "code",
      "metadata": {
        "id": "s1M0fpj2JTIc",
        "outputId": "5302ea46-7976-43db-cf73-0a5f99e091eb",
        "colab": {
          "base_uri": "https://localhost:8080/"
        }
      },
      "source": [
        "# clone the repository\n",
        "git clone https://github.com/dsikar/fire-light.git"
      ],
      "execution_count": 38,
      "outputs": [
        {
          "output_type": "stream",
          "text": [
            "--2020-11-03 17:46:33--  http://www.sikarsystems.com/fire_data.tar.gz\n",
            "Resolving www.sikarsystems.com (www.sikarsystems.com)... 66.147.244.173\n",
            "Connecting to www.sikarsystems.com (www.sikarsystems.com)|66.147.244.173|:80... connected.\n",
            "HTTP request sent, awaiting response... 200 OK\n",
            "Length: unspecified [text/html]\n",
            "Saving to: ‘fire_data.tar.gz’\n",
            "\n",
            "fire_data.tar.gz        [ <=>                ]       0  --.-KB/s    in 0s      \n",
            "\n",
            "2020-11-03 17:46:35 (0.00 B/s) - ‘fire_data.tar.gz’ saved [0]\n",
            "\n"
          ],
          "name": "stdout"
        }
      ]
    },
    {
      "cell_type": "code",
      "metadata": {
        "id": "XOVEOBUrW2Jb",
        "outputId": "341725df-b4ae-4895-9765-3a37002c7336",
        "colab": {
          "base_uri": "https://localhost:8080/"
        }
      },
      "source": [
        "# get the data\n",
        "# Install PyDrive\n",
        "!pip install PyDrive\n",
        "\n",
        "#Import modules\n",
        "from pydrive.auth import GoogleAuth\n",
        "from pydrive.drive import GoogleDrive\n",
        "from google.colab import auth\n",
        "from oauth2client.client import GoogleCredentials\n",
        "\n",
        "#Authenticate and create the PyDrive client\n",
        "auth.authenticate_user()\n",
        "gauth = GoogleAuth()\n",
        "gauth.credentials = GoogleCredentials.get_application_default()\n",
        "drive = GoogleDrive(gauth)\n",
        "\n",
        "#Get the Shareable link\n",
        "#Ex link : https://drive.google.com/file/d/1c7Ffo1Go1dtUpKcSWxdbdVyW4dfhEoUp/view?usp=sharing\n",
        "# Get the id from the link 1JYdxKasFKNfVqx2Iklj7iv_bwPanmi4j\n",
        "downloaded = drive.CreateFile({'id':\"1JYdxKasFKNfVqx2Iklj7iv_bwPanmi4j\"})   \n",
        "# Remember at least what was the file extension\n",
        "downloaded.GetContentFile('fire_data.tar.gz')       "
      ],
      "execution_count": 54,
      "outputs": [
        {
          "output_type": "stream",
          "text": [
            "Requirement already satisfied: PyDrive in /usr/local/lib/python3.6/dist-packages (1.3.1)\n",
            "Requirement already satisfied: oauth2client>=4.0.0 in /usr/local/lib/python3.6/dist-packages (from PyDrive) (4.1.3)\n",
            "Requirement already satisfied: google-api-python-client>=1.2 in /usr/local/lib/python3.6/dist-packages (from PyDrive) (1.7.12)\n",
            "Requirement already satisfied: PyYAML>=3.0 in /usr/local/lib/python3.6/dist-packages (from PyDrive) (3.13)\n",
            "Requirement already satisfied: pyasn1-modules>=0.0.5 in /usr/local/lib/python3.6/dist-packages (from oauth2client>=4.0.0->PyDrive) (0.2.8)\n",
            "Requirement already satisfied: six>=1.6.1 in /usr/local/lib/python3.6/dist-packages (from oauth2client>=4.0.0->PyDrive) (1.15.0)\n",
            "Requirement already satisfied: rsa>=3.1.4 in /usr/local/lib/python3.6/dist-packages (from oauth2client>=4.0.0->PyDrive) (4.6)\n",
            "Requirement already satisfied: pyasn1>=0.1.7 in /usr/local/lib/python3.6/dist-packages (from oauth2client>=4.0.0->PyDrive) (0.4.8)\n",
            "Requirement already satisfied: httplib2>=0.9.1 in /usr/local/lib/python3.6/dist-packages (from oauth2client>=4.0.0->PyDrive) (0.17.4)\n",
            "Requirement already satisfied: google-auth-httplib2>=0.0.3 in /usr/local/lib/python3.6/dist-packages (from google-api-python-client>=1.2->PyDrive) (0.0.4)\n",
            "Requirement already satisfied: uritemplate<4dev,>=3.0.0 in /usr/local/lib/python3.6/dist-packages (from google-api-python-client>=1.2->PyDrive) (3.0.1)\n",
            "Requirement already satisfied: google-auth>=1.4.1 in /usr/local/lib/python3.6/dist-packages (from google-api-python-client>=1.2->PyDrive) (1.17.2)\n",
            "Requirement already satisfied: setuptools>=40.3.0 in /usr/local/lib/python3.6/dist-packages (from google-auth>=1.4.1->google-api-python-client>=1.2->PyDrive) (50.3.2)\n",
            "Requirement already satisfied: cachetools<5.0,>=2.0.0 in /usr/local/lib/python3.6/dist-packages (from google-auth>=1.4.1->google-api-python-client>=1.2->PyDrive) (4.1.1)\n"
          ],
          "name": "stdout"
        }
      ]
    },
    {
      "cell_type": "code",
      "metadata": {
        "id": "kUMHGfMpKLLr"
      },
      "source": [
        "# unpack\n",
        "!tar xvf fire_data.tar.gz"
      ],
      "execution_count": null,
      "outputs": []
    },
    {
      "cell_type": "code",
      "metadata": {
        "id": "NOvz_3dmb_-H"
      },
      "source": [
        "!mv Codes/datasets/tmp/* fire-light/Codes/datasets/"
      ],
      "execution_count": 61,
      "outputs": []
    },
    {
      "cell_type": "code",
      "metadata": {
        "id": "8B9wUXR7JTIh"
      },
      "source": [
        "import os\n",
        "import cv2\n",
        "import numpy as np\n",
        "from tqdm import tqdm"
      ],
      "execution_count": 62,
      "outputs": []
    },
    {
      "cell_type": "code",
      "metadata": {
        "id": "DjzBBu7QJTIk"
      },
      "source": [
        "DATADIR = 'fire-light/Codes/datasets/'\n",
        "CATEGORIES = ['fire', 'nofire']"
      ],
      "execution_count": 63,
      "outputs": []
    },
    {
      "cell_type": "code",
      "metadata": {
        "id": "ZbRgxxmXJTIn"
      },
      "source": [
        "IMG_SIZE = 64\n",
        "def create_training_data():\n",
        "    training_data = []\n",
        "    for category in CATEGORIES:  \n",
        "\n",
        "        path = os.path.join(DATADIR,category) \n",
        "        class_num = CATEGORIES.index(category)  # get the classification  (0 or a 1). 0=C 1=O\n",
        "\n",
        "        for img in tqdm(os.listdir(path)):  # iterate over each image\n",
        "            try:\n",
        "                img_array = cv2.imread(os.path.join(path,img))  # convert to array\n",
        "                new_array = cv2.resize(img_array, (IMG_SIZE, IMG_SIZE))  # resize to normalize data size\n",
        "                training_data.append([new_array, class_num])  # add this to our training_data\n",
        "            except Exception as e:  # in the interest in keeping the output clean...\n",
        "                pass\n",
        "              \n",
        "    return training_data"
      ],
      "execution_count": 64,
      "outputs": []
    },
    {
      "cell_type": "code",
      "metadata": {
        "id": "I13u9gXEJTIq",
        "outputId": "d44e8283-e858-4b39-9355-a93bfa1328ab",
        "colab": {
          "base_uri": "https://localhost:8080/"
        }
      },
      "source": [
        "training_data = create_training_data()"
      ],
      "execution_count": 65,
      "outputs": [
        {
          "output_type": "stream",
          "text": [
            "100%|██████████| 175/175 [00:23<00:00,  7.59it/s]\n",
            "100%|██████████| 95/95 [00:11<00:00,  8.17it/s]\n"
          ],
          "name": "stderr"
        }
      ]
    },
    {
      "cell_type": "code",
      "metadata": {
        "id": "oaM3rhv6JTIt",
        "outputId": "2c6cc76a-c5fe-465d-a31d-03028f44c140",
        "colab": {
          "base_uri": "https://localhost:8080/"
        }
      },
      "source": [
        "import random\n",
        "\n",
        "print(len(training_data))\n",
        "random.shuffle(training_data)\n",
        "for sample in training_data[:10]:\n",
        "    print(sample[1])"
      ],
      "execution_count": 66,
      "outputs": [
        {
          "output_type": "stream",
          "text": [
            "270\n",
            "0\n",
            "0\n",
            "1\n",
            "0\n",
            "0\n",
            "0\n",
            "0\n",
            "0\n",
            "1\n",
            "0\n"
          ],
          "name": "stdout"
        }
      ]
    },
    {
      "cell_type": "code",
      "metadata": {
        "id": "0jHCOODEJTIw",
        "outputId": "55d005e8-ef94-4ec7-e285-dbcd2d376760",
        "colab": {
          "base_uri": "https://localhost:8080/"
        }
      },
      "source": [
        "X = []\n",
        "Y = []\n",
        "\n",
        "for features,label in training_data:\n",
        "    X.append(features)\n",
        "    Y.append(label)\n",
        "\n",
        "# try to get around split error\n",
        "Y = np.asarray(Y)\n",
        "\n",
        "X = np.array(X).reshape(-1, IMG_SIZE, IMG_SIZE, 3)\n",
        "X = X/255.0\n",
        "X.shape[1:]"
      ],
      "execution_count": 68,
      "outputs": [
        {
          "output_type": "execute_result",
          "data": {
            "text/plain": [
              "(270, 64, 64, 3)"
            ]
          },
          "metadata": {
            "tags": []
          },
          "execution_count": 68
        }
      ]
    },
    {
      "cell_type": "code",
      "metadata": {
        "id": "nvQf0pJdJTIz",
        "outputId": "856bc572-fede-4bdd-9d4c-95203930157f",
        "colab": {
          "base_uri": "https://localhost:8080/"
        }
      },
      "source": [
        "type(Y)"
      ],
      "execution_count": 69,
      "outputs": [
        {
          "output_type": "execute_result",
          "data": {
            "text/plain": [
              "numpy.ndarray"
            ]
          },
          "metadata": {
            "tags": []
          },
          "execution_count": 69
        }
      ]
    },
    {
      "cell_type": "code",
      "metadata": {
        "id": "lYOrgGuIJTI3"
      },
      "source": [
        "# # set up image augmentation\n",
        "# from keras.preprocessing.image import ImageDataGenerator\n",
        "\n",
        "# datagen = ImageDataGenerator(\n",
        "#     rotation_range=15,\n",
        "#     horizontal_flip=True,\n",
        "#     width_shift_range=0.1,\n",
        "#     height_shift_range=0.1\n",
        "#     #zoom_range=0.3\n",
        "#     )\n",
        "# datagen.fit(X)"
      ],
      "execution_count": null,
      "outputs": []
    },
    {
      "cell_type": "code",
      "metadata": {
        "id": "sk3Yk3ZiJTI5"
      },
      "source": [
        "import tensorflow as tf\n",
        "from tensorflow.keras.datasets import cifar10\n",
        "from tensorflow.keras.preprocessing.image import ImageDataGenerator\n",
        "from tensorflow.keras.models import Sequential\n",
        "from tensorflow.keras.layers import Dense, Dropout, Activation, Flatten\n",
        "from tensorflow.keras.layers import Conv2D, AveragePooling2D\n",
        "\n",
        "model = Sequential()\n",
        "\n",
        "\n",
        "model.add(Conv2D(filters=16, kernel_size=(3, 3), activation='relu', input_shape=X.shape[1:]))\n",
        "model.add(AveragePooling2D())\n",
        "model.add(Dropout(0.5))\n",
        "\n",
        "model.add(Conv2D(filters=32, kernel_size=(3, 3), activation='relu'))\n",
        "model.add(AveragePooling2D())\n",
        "model.add(Dropout(0.5))\n",
        "\n",
        "model.add(Conv2D(filters=64, kernel_size=(3, 3), activation='relu'))\n",
        "model.add(AveragePooling2D())\n",
        "model.add(Dropout(0.5))\n",
        "\n",
        "model.add(Flatten())\n",
        "\n",
        "model.add(Dense(units=256, activation='relu'))\n",
        "model.add(Dropout(0.2))\n",
        "\n",
        "model.add(Dense(units=128, activation='relu'))\n",
        "\n",
        "model.add(Dense(units=2, activation = 'softmax'))\n",
        "\n",
        "model.compile(loss='sparse_categorical_crossentropy',\n",
        "              optimizer='adam',\n",
        "              metrics=['accuracy'])\n",
        "\n",
        "\n"
      ],
      "execution_count": 70,
      "outputs": []
    },
    {
      "cell_type": "code",
      "metadata": {
        "id": "dI-InvF_JTI9",
        "outputId": "bc1c8004-d699-46bf-98ea-af6e76197510",
        "colab": {
          "base_uri": "https://localhost:8080/"
        }
      },
      "source": [
        "history = model.fit(X, Y, batch_size=32, epochs=100,validation_split=0.3)\n",
        "# model.fit_generator(datagen.flow(X, Y, batch_size=32),\n",
        "#                     epochs=100,\n",
        "#                     verbose=1)\n",
        "\n",
        "#history = model.fit(X, Y, batch_size=27, epochs=10,validation_split=0.3)"
      ],
      "execution_count": 71,
      "outputs": [
        {
          "output_type": "stream",
          "text": [
            "Epoch 1/100\n",
            "6/6 [==============================] - 1s 129ms/step - loss: 0.6635 - accuracy: 0.6878 - val_loss: 0.6762 - val_accuracy: 0.5926\n",
            "Epoch 2/100\n",
            "6/6 [==============================] - 1s 110ms/step - loss: 0.6468 - accuracy: 0.6667 - val_loss: 0.6710 - val_accuracy: 0.5926\n",
            "Epoch 3/100\n",
            "6/6 [==============================] - 1s 112ms/step - loss: 0.6461 - accuracy: 0.6720 - val_loss: 0.6603 - val_accuracy: 0.5926\n",
            "Epoch 4/100\n",
            "6/6 [==============================] - 1s 109ms/step - loss: 0.6229 - accuracy: 0.6825 - val_loss: 0.6463 - val_accuracy: 0.5926\n",
            "Epoch 5/100\n",
            "6/6 [==============================] - 1s 108ms/step - loss: 0.6313 - accuracy: 0.6720 - val_loss: 0.6411 - val_accuracy: 0.5926\n",
            "Epoch 6/100\n",
            "6/6 [==============================] - 1s 118ms/step - loss: 0.6062 - accuracy: 0.6878 - val_loss: 0.6088 - val_accuracy: 0.5926\n",
            "Epoch 7/100\n",
            "6/6 [==============================] - 1s 110ms/step - loss: 0.5758 - accuracy: 0.6878 - val_loss: 0.6131 - val_accuracy: 0.5926\n",
            "Epoch 8/100\n",
            "6/6 [==============================] - 1s 107ms/step - loss: 0.5347 - accuracy: 0.7196 - val_loss: 0.4990 - val_accuracy: 0.6296\n",
            "Epoch 9/100\n",
            "6/6 [==============================] - 1s 108ms/step - loss: 0.4565 - accuracy: 0.7937 - val_loss: 0.3485 - val_accuracy: 0.9753\n",
            "Epoch 10/100\n",
            "6/6 [==============================] - 1s 108ms/step - loss: 0.3647 - accuracy: 0.8571 - val_loss: 0.2193 - val_accuracy: 0.9877\n",
            "Epoch 11/100\n",
            "6/6 [==============================] - 1s 111ms/step - loss: 0.3156 - accuracy: 0.8995 - val_loss: 0.1479 - val_accuracy: 1.0000\n",
            "Epoch 12/100\n",
            "6/6 [==============================] - 1s 107ms/step - loss: 0.3945 - accuracy: 0.8413 - val_loss: 0.3055 - val_accuracy: 0.9383\n",
            "Epoch 13/100\n",
            "6/6 [==============================] - 1s 109ms/step - loss: 0.2681 - accuracy: 0.9577 - val_loss: 0.2112 - val_accuracy: 0.9506\n",
            "Epoch 14/100\n",
            "6/6 [==============================] - 1s 109ms/step - loss: 0.2540 - accuracy: 0.9101 - val_loss: 0.2259 - val_accuracy: 0.9012\n",
            "Epoch 15/100\n",
            "6/6 [==============================] - 1s 106ms/step - loss: 0.1622 - accuracy: 0.9418 - val_loss: 0.2597 - val_accuracy: 0.9012\n",
            "Epoch 16/100\n",
            "6/6 [==============================] - 1s 109ms/step - loss: 0.2585 - accuracy: 0.8995 - val_loss: 0.1224 - val_accuracy: 0.9753\n",
            "Epoch 17/100\n",
            "6/6 [==============================] - 1s 111ms/step - loss: 0.2322 - accuracy: 0.9259 - val_loss: 0.2281 - val_accuracy: 0.9753\n",
            "Epoch 18/100\n",
            "6/6 [==============================] - 1s 109ms/step - loss: 0.2234 - accuracy: 0.9206 - val_loss: 0.1958 - val_accuracy: 0.9630\n",
            "Epoch 19/100\n",
            "6/6 [==============================] - 1s 107ms/step - loss: 0.1034 - accuracy: 0.9683 - val_loss: 0.0389 - val_accuracy: 1.0000\n",
            "Epoch 20/100\n",
            "6/6 [==============================] - 1s 109ms/step - loss: 0.0635 - accuracy: 0.9683 - val_loss: 0.0753 - val_accuracy: 0.9630\n",
            "Epoch 21/100\n",
            "6/6 [==============================] - 1s 108ms/step - loss: 0.0660 - accuracy: 0.9735 - val_loss: 0.0213 - val_accuracy: 1.0000\n",
            "Epoch 22/100\n",
            "6/6 [==============================] - 1s 109ms/step - loss: 0.0737 - accuracy: 0.9788 - val_loss: 0.0580 - val_accuracy: 1.0000\n",
            "Epoch 23/100\n",
            "6/6 [==============================] - 1s 111ms/step - loss: 0.0746 - accuracy: 0.9894 - val_loss: 0.0430 - val_accuracy: 1.0000\n",
            "Epoch 24/100\n",
            "6/6 [==============================] - 1s 112ms/step - loss: 0.0906 - accuracy: 0.9630 - val_loss: 0.0272 - val_accuracy: 1.0000\n",
            "Epoch 25/100\n",
            "6/6 [==============================] - 1s 109ms/step - loss: 0.1479 - accuracy: 0.9577 - val_loss: 0.3088 - val_accuracy: 0.9877\n",
            "Epoch 26/100\n",
            "6/6 [==============================] - 1s 109ms/step - loss: 0.1081 - accuracy: 0.9735 - val_loss: 0.0227 - val_accuracy: 0.9877\n",
            "Epoch 27/100\n",
            "6/6 [==============================] - 1s 110ms/step - loss: 0.0506 - accuracy: 0.9735 - val_loss: 0.0508 - val_accuracy: 0.9753\n",
            "Epoch 28/100\n",
            "6/6 [==============================] - 1s 110ms/step - loss: 0.0998 - accuracy: 0.9577 - val_loss: 0.0125 - val_accuracy: 1.0000\n",
            "Epoch 29/100\n",
            "6/6 [==============================] - 1s 108ms/step - loss: 0.0485 - accuracy: 0.9894 - val_loss: 0.0927 - val_accuracy: 0.9877\n",
            "Epoch 30/100\n",
            "6/6 [==============================] - 1s 113ms/step - loss: 0.0446 - accuracy: 0.9894 - val_loss: 0.0155 - val_accuracy: 1.0000\n",
            "Epoch 31/100\n",
            "6/6 [==============================] - 1s 109ms/step - loss: 0.0241 - accuracy: 0.9947 - val_loss: 0.0035 - val_accuracy: 1.0000\n",
            "Epoch 32/100\n",
            "6/6 [==============================] - 1s 113ms/step - loss: 0.0163 - accuracy: 0.9947 - val_loss: 0.0073 - val_accuracy: 1.0000\n",
            "Epoch 33/100\n",
            "6/6 [==============================] - 1s 109ms/step - loss: 0.0302 - accuracy: 0.9894 - val_loss: 0.0321 - val_accuracy: 1.0000\n",
            "Epoch 34/100\n",
            "6/6 [==============================] - 1s 110ms/step - loss: 0.0188 - accuracy: 0.9947 - val_loss: 0.0050 - val_accuracy: 1.0000\n",
            "Epoch 35/100\n",
            "6/6 [==============================] - 1s 113ms/step - loss: 0.0353 - accuracy: 0.9841 - val_loss: 0.0034 - val_accuracy: 1.0000\n",
            "Epoch 36/100\n",
            "6/6 [==============================] - 1s 113ms/step - loss: 0.0240 - accuracy: 0.9947 - val_loss: 0.0231 - val_accuracy: 1.0000\n",
            "Epoch 37/100\n",
            "6/6 [==============================] - 1s 114ms/step - loss: 0.0171 - accuracy: 1.0000 - val_loss: 0.0176 - val_accuracy: 1.0000\n",
            "Epoch 38/100\n",
            "6/6 [==============================] - 1s 113ms/step - loss: 0.0039 - accuracy: 1.0000 - val_loss: 0.0025 - val_accuracy: 1.0000\n",
            "Epoch 39/100\n",
            "6/6 [==============================] - 1s 111ms/step - loss: 0.0031 - accuracy: 1.0000 - val_loss: 5.6690e-04 - val_accuracy: 1.0000\n",
            "Epoch 40/100\n",
            "6/6 [==============================] - 1s 112ms/step - loss: 0.0307 - accuracy: 0.9894 - val_loss: 0.0372 - val_accuracy: 0.9877\n",
            "Epoch 41/100\n",
            "6/6 [==============================] - 1s 109ms/step - loss: 0.0330 - accuracy: 0.9947 - val_loss: 0.0365 - val_accuracy: 0.9877\n",
            "Epoch 42/100\n",
            "6/6 [==============================] - 1s 108ms/step - loss: 0.0101 - accuracy: 1.0000 - val_loss: 0.0055 - val_accuracy: 1.0000\n",
            "Epoch 43/100\n",
            "6/6 [==============================] - 1s 112ms/step - loss: 0.0083 - accuracy: 0.9947 - val_loss: 0.0083 - val_accuracy: 1.0000\n",
            "Epoch 44/100\n",
            "6/6 [==============================] - 1s 108ms/step - loss: 0.0041 - accuracy: 1.0000 - val_loss: 0.0016 - val_accuracy: 1.0000\n",
            "Epoch 45/100\n",
            "6/6 [==============================] - 1s 112ms/step - loss: 0.0024 - accuracy: 1.0000 - val_loss: 1.5662e-04 - val_accuracy: 1.0000\n",
            "Epoch 46/100\n",
            "6/6 [==============================] - 1s 111ms/step - loss: 0.0010 - accuracy: 1.0000 - val_loss: 2.0746e-04 - val_accuracy: 1.0000\n",
            "Epoch 47/100\n",
            "6/6 [==============================] - 1s 107ms/step - loss: 0.0096 - accuracy: 0.9947 - val_loss: 0.0014 - val_accuracy: 1.0000\n",
            "Epoch 48/100\n",
            "6/6 [==============================] - 1s 109ms/step - loss: 0.0147 - accuracy: 0.9947 - val_loss: 0.0688 - val_accuracy: 1.0000\n",
            "Epoch 49/100\n",
            "6/6 [==============================] - 1s 111ms/step - loss: 0.0348 - accuracy: 0.9894 - val_loss: 0.0054 - val_accuracy: 1.0000\n",
            "Epoch 50/100\n",
            "6/6 [==============================] - 1s 111ms/step - loss: 0.0368 - accuracy: 0.9947 - val_loss: 3.6014e-04 - val_accuracy: 1.0000\n",
            "Epoch 51/100\n",
            "6/6 [==============================] - 1s 110ms/step - loss: 0.0198 - accuracy: 0.9947 - val_loss: 0.0581 - val_accuracy: 1.0000\n",
            "Epoch 52/100\n",
            "6/6 [==============================] - 1s 111ms/step - loss: 0.0120 - accuracy: 1.0000 - val_loss: 0.0025 - val_accuracy: 1.0000\n",
            "Epoch 53/100\n",
            "6/6 [==============================] - 1s 110ms/step - loss: 0.0027 - accuracy: 1.0000 - val_loss: 0.0014 - val_accuracy: 1.0000\n",
            "Epoch 54/100\n",
            "6/6 [==============================] - 1s 109ms/step - loss: 0.0101 - accuracy: 1.0000 - val_loss: 0.0098 - val_accuracy: 1.0000\n",
            "Epoch 55/100\n",
            "6/6 [==============================] - 1s 109ms/step - loss: 0.0024 - accuracy: 1.0000 - val_loss: 6.2498e-04 - val_accuracy: 1.0000\n",
            "Epoch 56/100\n",
            "6/6 [==============================] - 1s 110ms/step - loss: 0.0016 - accuracy: 1.0000 - val_loss: 1.0206e-04 - val_accuracy: 1.0000\n",
            "Epoch 57/100\n",
            "6/6 [==============================] - 1s 109ms/step - loss: 0.0075 - accuracy: 0.9947 - val_loss: 9.7135e-04 - val_accuracy: 1.0000\n",
            "Epoch 58/100\n",
            "6/6 [==============================] - 1s 109ms/step - loss: 0.0021 - accuracy: 1.0000 - val_loss: 0.0165 - val_accuracy: 1.0000\n",
            "Epoch 59/100\n",
            "6/6 [==============================] - 1s 108ms/step - loss: 0.0051 - accuracy: 1.0000 - val_loss: 0.0092 - val_accuracy: 1.0000\n",
            "Epoch 60/100\n",
            "6/6 [==============================] - 1s 108ms/step - loss: 0.0402 - accuracy: 0.9947 - val_loss: 0.0143 - val_accuracy: 1.0000\n",
            "Epoch 61/100\n",
            "6/6 [==============================] - 1s 110ms/step - loss: 0.0056 - accuracy: 1.0000 - val_loss: 0.0018 - val_accuracy: 1.0000\n",
            "Epoch 62/100\n",
            "6/6 [==============================] - 1s 110ms/step - loss: 1.6591e-04 - accuracy: 1.0000 - val_loss: 2.2133e-05 - val_accuracy: 1.0000\n",
            "Epoch 63/100\n",
            "6/6 [==============================] - 1s 109ms/step - loss: 0.0018 - accuracy: 1.0000 - val_loss: 5.5836e-06 - val_accuracy: 1.0000\n",
            "Epoch 64/100\n",
            "6/6 [==============================] - 1s 109ms/step - loss: 3.4346e-05 - accuracy: 1.0000 - val_loss: 4.6285e-06 - val_accuracy: 1.0000\n",
            "Epoch 65/100\n",
            "6/6 [==============================] - 1s 110ms/step - loss: 3.7629e-06 - accuracy: 1.0000 - val_loss: 4.3974e-06 - val_accuracy: 1.0000\n",
            "Epoch 66/100\n",
            "6/6 [==============================] - 1s 111ms/step - loss: 8.4064e-05 - accuracy: 1.0000 - val_loss: 4.7874e-06 - val_accuracy: 1.0000\n",
            "Epoch 67/100\n",
            "6/6 [==============================] - 1s 106ms/step - loss: 0.0031 - accuracy: 1.0000 - val_loss: 7.6718e-04 - val_accuracy: 1.0000\n",
            "Epoch 68/100\n",
            "6/6 [==============================] - 1s 110ms/step - loss: 0.0038 - accuracy: 1.0000 - val_loss: 0.0277 - val_accuracy: 0.9877\n",
            "Epoch 69/100\n",
            "6/6 [==============================] - 1s 110ms/step - loss: 0.0032 - accuracy: 1.0000 - val_loss: 5.7741e-05 - val_accuracy: 1.0000\n",
            "Epoch 70/100\n",
            "6/6 [==============================] - 1s 107ms/step - loss: 0.0049 - accuracy: 0.9947 - val_loss: 3.4157e-05 - val_accuracy: 1.0000\n",
            "Epoch 71/100\n",
            "6/6 [==============================] - 1s 109ms/step - loss: 5.1266e-04 - accuracy: 1.0000 - val_loss: 2.3798e-05 - val_accuracy: 1.0000\n",
            "Epoch 72/100\n",
            "6/6 [==============================] - 1s 108ms/step - loss: 4.2510e-04 - accuracy: 1.0000 - val_loss: 8.3502e-05 - val_accuracy: 1.0000\n",
            "Epoch 73/100\n",
            "6/6 [==============================] - 1s 110ms/step - loss: 2.4907e-04 - accuracy: 1.0000 - val_loss: 1.5203e-04 - val_accuracy: 1.0000\n",
            "Epoch 74/100\n",
            "6/6 [==============================] - 1s 109ms/step - loss: 9.6758e-04 - accuracy: 1.0000 - val_loss: 1.4540e-04 - val_accuracy: 1.0000\n",
            "Epoch 75/100\n",
            "6/6 [==============================] - 1s 107ms/step - loss: 7.5883e-05 - accuracy: 1.0000 - val_loss: 1.3596e-04 - val_accuracy: 1.0000\n",
            "Epoch 76/100\n",
            "6/6 [==============================] - 1s 110ms/step - loss: 1.8774e-04 - accuracy: 1.0000 - val_loss: 9.8795e-05 - val_accuracy: 1.0000\n",
            "Epoch 77/100\n",
            "6/6 [==============================] - 1s 109ms/step - loss: 1.5043e-04 - accuracy: 1.0000 - val_loss: 7.4282e-05 - val_accuracy: 1.0000\n",
            "Epoch 78/100\n",
            "6/6 [==============================] - 1s 111ms/step - loss: 0.0033 - accuracy: 1.0000 - val_loss: 0.0068 - val_accuracy: 1.0000\n",
            "Epoch 79/100\n",
            "6/6 [==============================] - 1s 107ms/step - loss: 0.0066 - accuracy: 1.0000 - val_loss: 0.0019 - val_accuracy: 1.0000\n",
            "Epoch 80/100\n",
            "6/6 [==============================] - 1s 108ms/step - loss: 1.6308e-04 - accuracy: 1.0000 - val_loss: 8.3015e-05 - val_accuracy: 1.0000\n",
            "Epoch 81/100\n",
            "6/6 [==============================] - 1s 112ms/step - loss: 0.0022 - accuracy: 1.0000 - val_loss: 4.1925e-05 - val_accuracy: 1.0000\n",
            "Epoch 82/100\n",
            "6/6 [==============================] - 1s 111ms/step - loss: 0.0366 - accuracy: 0.9894 - val_loss: 2.6002e-04 - val_accuracy: 1.0000\n",
            "Epoch 83/100\n",
            "6/6 [==============================] - 1s 111ms/step - loss: 0.0017 - accuracy: 1.0000 - val_loss: 0.0169 - val_accuracy: 1.0000\n",
            "Epoch 84/100\n",
            "6/6 [==============================] - 1s 112ms/step - loss: 0.0026 - accuracy: 1.0000 - val_loss: 0.0238 - val_accuracy: 1.0000\n",
            "Epoch 85/100\n",
            "6/6 [==============================] - 1s 110ms/step - loss: 5.5264e-04 - accuracy: 1.0000 - val_loss: 3.7965e-04 - val_accuracy: 1.0000\n",
            "Epoch 86/100\n",
            "6/6 [==============================] - 1s 109ms/step - loss: 0.0664 - accuracy: 0.9788 - val_loss: 0.0146 - val_accuracy: 1.0000\n",
            "Epoch 87/100\n",
            "6/6 [==============================] - 1s 108ms/step - loss: 0.0534 - accuracy: 0.9841 - val_loss: 0.0681 - val_accuracy: 0.9630\n",
            "Epoch 88/100\n",
            "6/6 [==============================] - 1s 108ms/step - loss: 0.0777 - accuracy: 0.9841 - val_loss: 3.1293e-04 - val_accuracy: 1.0000\n",
            "Epoch 89/100\n",
            "6/6 [==============================] - 1s 109ms/step - loss: 0.0106 - accuracy: 0.9947 - val_loss: 0.0125 - val_accuracy: 1.0000\n",
            "Epoch 90/100\n",
            "6/6 [==============================] - 1s 111ms/step - loss: 0.0120 - accuracy: 0.9947 - val_loss: 0.0059 - val_accuracy: 1.0000\n",
            "Epoch 91/100\n",
            "6/6 [==============================] - 1s 110ms/step - loss: 0.0014 - accuracy: 1.0000 - val_loss: 1.1247e-04 - val_accuracy: 1.0000\n",
            "Epoch 92/100\n",
            "6/6 [==============================] - 1s 108ms/step - loss: 0.0019 - accuracy: 1.0000 - val_loss: 5.8281e-04 - val_accuracy: 1.0000\n",
            "Epoch 93/100\n",
            "6/6 [==============================] - 1s 109ms/step - loss: 0.0013 - accuracy: 1.0000 - val_loss: 0.0021 - val_accuracy: 1.0000\n",
            "Epoch 94/100\n",
            "6/6 [==============================] - 1s 110ms/step - loss: 0.0048 - accuracy: 1.0000 - val_loss: 5.0925e-04 - val_accuracy: 1.0000\n",
            "Epoch 95/100\n",
            "6/6 [==============================] - 1s 107ms/step - loss: 0.0115 - accuracy: 0.9947 - val_loss: 0.0435 - val_accuracy: 1.0000\n",
            "Epoch 96/100\n",
            "6/6 [==============================] - 1s 110ms/step - loss: 0.0081 - accuracy: 1.0000 - val_loss: 0.0020 - val_accuracy: 1.0000\n",
            "Epoch 97/100\n",
            "6/6 [==============================] - 1s 113ms/step - loss: 0.0015 - accuracy: 1.0000 - val_loss: 1.2038e-04 - val_accuracy: 1.0000\n",
            "Epoch 98/100\n",
            "6/6 [==============================] - 1s 111ms/step - loss: 0.0050 - accuracy: 0.9947 - val_loss: 7.9055e-05 - val_accuracy: 1.0000\n",
            "Epoch 99/100\n",
            "6/6 [==============================] - 1s 108ms/step - loss: 9.0213e-05 - accuracy: 1.0000 - val_loss: 2.1095e-04 - val_accuracy: 1.0000\n",
            "Epoch 100/100\n",
            "6/6 [==============================] - 1s 109ms/step - loss: 2.5247e-04 - accuracy: 1.0000 - val_loss: 3.5038e-04 - val_accuracy: 1.0000\n"
          ],
          "name": "stdout"
        }
      ]
    },
    {
      "cell_type": "code",
      "metadata": {
        "id": "9_HTgRTwJTJB",
        "outputId": "dfc4f554-f94c-4d34-ff50-cb50a3ef3b1e",
        "colab": {
          "base_uri": "https://localhost:8080/"
        }
      },
      "source": [
        "# model.save('TrainedModels/Fire-64x64-color-v7.1-soft.h5')\n",
        "# model.save('TrainedModels/firemodel.h5')\n",
        "!ls fire-light"
      ],
      "execution_count": 73,
      "outputs": [
        {
          "output_type": "stream",
          "text": [
            "Codes\t\t\t\tREADME.md\t  Trained_Model_FIreNet\n",
            "Raspberry_Pi_3B_Sample_Results\tRequirements.txt\n"
          ],
          "name": "stdout"
        }
      ]
    },
    {
      "cell_type": "code",
      "metadata": {
        "id": "zg7DJagKJTJE",
        "outputId": "f7cec903-e555-4ae6-ecd0-fe2deaf68ff8",
        "colab": {
          "base_uri": "https://localhost:8080/"
        }
      },
      "source": [
        "print(history.history.keys())"
      ],
      "execution_count": 74,
      "outputs": [
        {
          "output_type": "stream",
          "text": [
            "dict_keys(['loss', 'accuracy', 'val_loss', 'val_accuracy'])\n"
          ],
          "name": "stdout"
        }
      ]
    },
    {
      "cell_type": "code",
      "metadata": {
        "id": "dd_tZbhcJTJH",
        "outputId": "0c854f2a-5fd7-4df4-8a0f-e34b1d08ec50",
        "colab": {
          "base_uri": "https://localhost:8080/",
          "height": 295
        }
      },
      "source": [
        "from matplotlib import pyplot as plt\n",
        "# plt.plot(history.history['acc'])\n",
        "# plt.plot(history.history['val_acc'])\n",
        "plt.plot(history.history['accuracy'])\n",
        "plt.plot(history.history['val_accuracy'])\n",
        "plt.title('model accuracy')\n",
        "plt.ylabel('accuracy')\n",
        "plt.xlabel('epoch')\n",
        "plt.legend(['train', 'validation'], loc='upper left')\n",
        "plt.show()"
      ],
      "execution_count": 75,
      "outputs": [
        {
          "output_type": "display_data",
          "data": {
            "image/png": "[encoded data removed]",
            "text/plain": [
              "<Figure size 432x288 with 1 Axes>"
            ]
          },
          "metadata": {
            "tags": [],
            "needs_background": "light"
          }
        }
      ]
    },
    {
      "cell_type": "code",
      "metadata": {
        "id": "grxxxEjsJTJK",
        "outputId": "9b1311af-cf3f-4707-a6ab-fdc3895b760f",
        "colab": {
          "base_uri": "https://localhost:8080/",
          "height": 295
        }
      },
      "source": [
        "plt.plot(history.history['loss'])\n",
        "plt.plot(history.history['val_loss'])\n",
        "plt.title('model loss')\n",
        "plt.ylabel('loss')\n",
        "plt.xlabel('epoch')\n",
        "plt.legend(['train', 'validation'], loc='upper left')\n",
        "plt.show()"
      ],
      "execution_count": 76,
      "outputs": [
        {
          "output_type": "display_data",
          "data": {
            "image/png": "[encoded data removed]",
            "text/plain": [
              "<Figure size 432x288 with 1 Axes>"
            ]
          },
          "metadata": {
            "tags": [],
            "needs_background": "light"
          }
        }
      ]
    },
    {
      "cell_type": "code",
      "metadata": {
        "id": "r1NUB5SlJTJQ"
      },
      "source": [
        "import tensorflow as tf\n",
        "from tensorflow.keras.utils import plot_model\n",
        "# model = tf.keras.models.load_model('TrainedModels/Fire-64x64-color-v7-soft.h5')\n",
        "model = tf.keras.models.load_model('TrainedModels/take2.h5')\n",
        "\n",
        "# model.fit_generator(datagen.flow(X, Y, batch_size=32),\n",
        "#                     epochs=100,\n",
        "#                   verbose=1)"
      ],
      "execution_count": null,
      "outputs": []
    },
    {
      "cell_type": "code",
      "metadata": {
        "id": "m2zLTaZLJTJU",
        "outputId": "86e8a21d-f1bb-4725-f182-f808e7546a93"
      },
      "source": [
        "plot_model(model, to_file='model_small.svg', show_layer_names=False, show_shapes=True)"
      ],
      "execution_count": null,
      "outputs": [
        {
          "output_type": "stream",
          "text": [
            "Failed to import pydot. You must install pydot and graphviz for `pydotprint` to work.\n"
          ],
          "name": "stdout"
        }
      ]
    },
    {
      "cell_type": "code",
      "metadata": {
        "id": "NRr2RnEsJTJX",
        "outputId": "482cc018-89c9-435b-a371-dff29c557b14"
      },
      "source": [
        "conda install pydotplus"
      ],
      "execution_count": null,
      "outputs": [
        {
          "output_type": "stream",
          "text": [
            "Collecting package metadata (current_repodata.json): failed\n",
            "\n",
            "NotWritableError: The current user does not have write permissions to a required path.\n",
            "  path: /home/simbox/.conda/pkgs/urls.txt\n",
            "  uid: 1000\n",
            "  gid: 1000\n",
            "\n",
            "If you feel that permissions on this path are set incorrectly, you can manually\n",
            "change them by executing\n",
            "\n",
            "  $ sudo chown 1000:1000 /home/simbox/.conda/pkgs/urls.txt\n",
            "\n",
            "In general, it's not advisable to use 'sudo conda'.\n",
            "\n",
            "\n",
            "\n",
            "Note: you may need to restart the kernel to use updated packages.\n"
          ],
          "name": "stdout"
        }
      ]
    }
  ]
}